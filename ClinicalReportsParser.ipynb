{
 "cells": [
  {
   "cell_type": "code",
   "execution_count": 294,
   "metadata": {},
   "outputs": [
    {
     "data": {
      "application/javascript": [
       "IPython.OutputArea.prototype._should_scroll = function(lines) {\n",
       "    return false;\n",
       "}"
      ],
      "text/plain": [
       "<IPython.core.display.Javascript object>"
      ]
     },
     "metadata": {},
     "output_type": "display_data"
    }
   ],
   "source": [
    "%%javascript\n",
    "IPython.OutputArea.prototype._should_scroll = function(lines) {\n",
    "    return false;\n",
    "}"
   ]
  },
  {
   "cell_type": "code",
   "execution_count": 295,
   "metadata": {},
   "outputs": [],
   "source": [
    "import os\n",
    "import docx"
   ]
  },
  {
   "cell_type": "code",
   "execution_count": 296,
   "metadata": {},
   "outputs": [],
   "source": [
    "def getAllDocxFiles(input_dir='data'):\n",
    "    all_doc_file_names = filter(lambda x: x.endswith('.docx'), os.listdir(input_dir))\n",
    "    return all_doc_file_names"
   ]
  },
  {
   "cell_type": "code",
   "execution_count": 297,
   "metadata": {},
   "outputs": [],
   "source": [
    "def getDocumentRawParagraphs(doc):\n",
    "    heading = ''\n",
    "    text = ''\n",
    "    paragraphs = []\n",
    "    for para in doc.paragraphs:\n",
    "        para_text = para.text.strip()\n",
    "        if para_text:\n",
    "            if para.runs[0].bold or para_text.count('-') > 10:\n",
    "                para_text = para_text.replace('-', '')\n",
    "                if heading or text:\n",
    "                    paragraphs.append((heading, text))\n",
    "                heading = para_text\n",
    "                text = ''\n",
    "            else:\n",
    "                text += para_text + '\\n'\n",
    "    paragraphs.append((heading, text))\n",
    "    return paragraphs"
   ]
  },
  {
   "cell_type": "code",
   "execution_count": 298,
   "metadata": {},
   "outputs": [],
   "source": [
    "def getKnownWords():\n",
    "    known_words = []\n",
    "    with open('data/wordsEn.txt', 'r') as f:\n",
    "        known_words = f.readlines()\n",
    "    known_words = map(lambda x: x.strip(), known_words)\n",
    "    return known_words"
   ]
  },
  {
   "cell_type": "code",
   "execution_count": 299,
   "metadata": {},
   "outputs": [],
   "source": [
    "class Sentence(object):\n",
    "    def __init__(self, raw_text):\n",
    "        self.raw_text = raw_text\n",
    "        self.chars_to_remove = ['~','-', '`','.', '!', '?', '@', '#', '$', '%',\\\n",
    "                            '^', '&', ',', '(', ')', '_', '+', '*',\\\n",
    "                            '=', '<', '>', ';', ':', '\"', '[', ']', '/',\\\n",
    "                            '\\\\', '|', '~', '{', '}']\n",
    "        self.context = ''\n",
    "        self.value = ''\n",
    "        self.clean()\n",
    "        \n",
    "    def replaceSpecialChars(self, word):\n",
    "        value = word.split(',')\n",
    "        try:\n",
    "            splitted = word.split('/')\n",
    "            _ = map(int, splitted)\n",
    "        except:\n",
    "            if len(word) > 7 and len(splitted) > 1:\n",
    "                value = 'or '.join(splitted).split(' ')\n",
    "        return value\n",
    "    \n",
    "    def clean_part(self, sentence_part):\n",
    "        words = sentence_part.split()\n",
    "        new_words = []\n",
    "        for word in words:\n",
    "            if word in self.chars_to_remove:\n",
    "                continue\n",
    "            if word[-1] in self.chars_to_remove:\n",
    "                word = word[:-1]\n",
    "            if word[0] in self.chars_to_remove:\n",
    "                word = word[1:]\n",
    "            splitted = self.replaceSpecialChars(word)\n",
    "            new_words += splitted\n",
    "        return new_words\n",
    "    \n",
    "    def clean(self):\n",
    "        sentence = self.raw_text.strip().lower()\n",
    "        base_parts = sentence.split(':')\n",
    "        if len(base_parts) > 1:\n",
    "            self.context = self.clean_part(base_parts[0])\n",
    "            base_parts = base_parts[1:]\n",
    "        remaining_sentence = ':'.join(base_parts)\n",
    "        self.value = self.clean_part(remaining_sentence)\n",
    "        \n",
    "    def __str__(self):\n",
    "        return ('%s => '%(' '.join(self.context)) if len(self.context) > 0 else '') + ' '.join(self.value)"
   ]
  },
  {
   "cell_type": "code",
   "execution_count": 300,
   "metadata": {},
   "outputs": [],
   "source": [
    "class Paragraph(object):\n",
    "    def __init__(self, raw_text, heading=''):\n",
    "        self.raw_text = raw_text\n",
    "        self.heading = heading\n",
    "        self.sentences = []\n",
    "        self.clean()\n",
    "        \n",
    "    def clean(self):\n",
    "        for raw_sentence in self.raw_text.split('\\n'):\n",
    "            raw_sentence = raw_sentence.strip()\n",
    "            if raw_sentence:\n",
    "                self.sentences.append(Sentence(raw_sentence))\n",
    "            \n",
    "    def __str__(self):\n",
    "        text = self.heading + '\\n' if self.heading else ''\n",
    "        text += '\\n'.join(map(str, self.sentences))\n",
    "        return text\n",
    "    \n",
    "    def __repr__(self):\n",
    "        return self.__str__()"
   ]
  },
  {
   "cell_type": "code",
   "execution_count": 301,
   "metadata": {},
   "outputs": [],
   "source": [
    "doc = docx.Document('data/Lei_753_notes_ano.docx')\n",
    "raw_paragraphs = getDocumentRawParagraphs(doc)\n",
    "paragraphs = [Paragraph(heading, content) for heading, content in raw_paragraphs]"
   ]
  }
 ],
 "metadata": {
  "kernelspec": {
   "display_name": "Python 2",
   "language": "python",
   "name": "python2"
  },
  "language_info": {
   "codemirror_mode": {
    "name": "ipython",
    "version": 2
   },
   "file_extension": ".py",
   "mimetype": "text/x-python",
   "name": "python",
   "nbconvert_exporter": "python",
   "pygments_lexer": "ipython2",
   "version": "2.7.14"
  }
 },
 "nbformat": 4,
 "nbformat_minor": 2
}
